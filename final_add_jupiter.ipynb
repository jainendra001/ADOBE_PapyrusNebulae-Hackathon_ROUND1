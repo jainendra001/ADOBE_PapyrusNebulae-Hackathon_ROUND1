{
 "cells": [
  {
   "cell_type": "code",
   "execution_count": 31,
   "metadata": {},
   "outputs": [],
   "source": [
    "import os\n",
    "import pandas as pd\n",
    "\n",
    "# Read the path\n",
    "file_path = \"final\"\n",
    "\n",
    "# List all the files from the directory\n",
    "file_list = os.listdir(file_path)\n",
    "\n",
    "# Sort the file list based on file modification time\n",
    "file_list = sorted(file_list, key=lambda x: os.path.getmtime(os.path.join(file_path, x)))\n",
    "\n",
    "# Initialize an empty DataFrame\n",
    "df_concat = pd.DataFrame()\n",
    "\n",
    "# Iterate over each file and concatenate the data\n",
    "for file_name in file_list:\n",
    "    file = os.path.join(file_path, file_name)\n",
    "    if file.endswith(\".csv\"):\n",
    "        df = pd.read_csv(file, encoding='latin-1')\n",
    "        df_concat = pd.concat([df_concat, df], ignore_index=True)\n",
    "\n",
    "# Print the concatenated DataFrame\n",
    "df_concat.to_csv('merged_file.csv', index=False)\n"
   ]
  }
 ],
 "metadata": {
  "kernelspec": {
   "display_name": "Python 3",
   "language": "python",
   "name": "python3"
  },
  "language_info": {
   "codemirror_mode": {
    "name": "ipython",
    "version": 3
   },
   "file_extension": ".py",
   "mimetype": "text/x-python",
   "name": "python",
   "nbconvert_exporter": "python",
   "pygments_lexer": "ipython3",
   "version": "3.10.4"
  },
  "orig_nbformat": 4
 },
 "nbformat": 4,
 "nbformat_minor": 2
}
